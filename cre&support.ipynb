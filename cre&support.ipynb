{
  "nbformat": 4,
  "nbformat_minor": 0,
  "metadata": {
    "colab": {
      "provenance": [],
      "collapsed_sections": [],
      "authorship_tag": "ABX9TyNHQat8wPDgCzEli3I9HCpF",
      "include_colab_link": true
    },
    "kernelspec": {
      "name": "python3",
      "display_name": "Python 3"
    },
    "language_info": {
      "name": "python"
    }
  },
  "cells": [
    {
      "cell_type": "markdown",
      "metadata": {
        "id": "view-in-github",
        "colab_type": "text"
      },
      "source": [
        "<a href=\"https://colab.research.google.com/github/zacnickens/dotfiles/blob/trunk/cre%26support.ipynb\" target=\"_parent\"><img src=\"https://colab.research.google.com/assets/colab-badge.svg\" alt=\"Open In Colab\"/></a>"
      ]
    },
    {
      "cell_type": "code",
      "execution_count": null,
      "metadata": {
        "id": "xHiSiRkh1_AL"
      },
      "outputs": [],
      "source": [
        "import pandas as pd\n",
        "import scipy \n",
        "import matplotlib as mpl\n"
      ]
    },
    {
      "cell_type": "code",
      "source": [
        "data = pd.read_csv('global_support_data.csv')\n",
        "print(data)"
      ],
      "metadata": {
        "colab": {
          "base_uri": "https://localhost:8080/"
        },
        "id": "eb1WPJuL4Fel",
        "outputId": "fe476396-a322-4351-9b2e-481ea51bb406"
      },
      "execution_count": null,
      "outputs": [
        {
          "output_type": "stream",
          "name": "stdout",
          "text": [
            "                                                     URL  TICKET ID      TYPE  \\\n",
            "0      https://supportoutsystems.zendesk.com/agent/ti...  2475557.0      Task   \n",
            "1      https://supportoutsystems.zendesk.com/agent/ti...  2475856.0      Task   \n",
            "2      https://supportoutsystems.zendesk.com/agent/ti...  2491855.0      Task   \n",
            "3      https://supportoutsystems.zendesk.com/agent/ti...  2499531.0      Task   \n",
            "4      https://supportoutsystems.zendesk.com/agent/ti...  2511352.0      Task   \n",
            "...                                                  ...        ...       ...   \n",
            "52175  https://supportoutsystems.zendesk.com/agent/ti...  2733513.0  Incident   \n",
            "52176  https://supportoutsystems.zendesk.com/agent/ti...  2733834.0  Incident   \n",
            "52177  https://supportoutsystems.zendesk.com/agent/ti...  2740176.0  Incident   \n",
            "52178                                                NaN        NaN       NaN   \n",
            "52179  Applied filters:\\nINFRASTRUCTURE_TYPE is not E...        NaN       NaN   \n",
            "\n",
            "                   PROCESS INITIAL PRIORITY IMPACT LEVEL LAST PRIORITY  \\\n",
            "0      Request Fulfillment           Normal       Normal        Normal   \n",
            "1      Request Fulfillment             High         High        Normal   \n",
            "2      Request Fulfillment           Normal       Normal        Normal   \n",
            "3      Request Fulfillment             High         High        Normal   \n",
            "4      Request Fulfillment           Normal       Normal        Normal   \n",
            "...                    ...              ...          ...           ...   \n",
            "52175     Event Management             High         High          High   \n",
            "52176  Incident Management           Normal       Normal        Normal   \n",
            "52177  Incident Management           Urgent       Urgent        Urgent   \n",
            "52178                  NaN              NaN          NaN           NaN   \n",
            "52179                  NaN              NaN          NaN           NaN   \n",
            "\n",
            "      IS MAJOR INCIDENT IS PUBLIC IS_ESCALATED  ...  \\\n",
            "0                 False     False        False  ...   \n",
            "1                 False      True        False  ...   \n",
            "2                 False     False        False  ...   \n",
            "3                 False      True         True  ...   \n",
            "4                 False      True        False  ...   \n",
            "...                 ...       ...          ...  ...   \n",
            "52175             False     False        False  ...   \n",
            "52176             False      True        False  ...   \n",
            "52177             False      True        False  ...   \n",
            "52178               NaN       NaN          NaN  ...   \n",
            "52179               NaN       NaN          NaN  ...   \n",
            "\n",
            "                                                CUSTOMER  \\\n",
            "0      MSG  Entertainment Group , LLC (001w000001HtJ8...   \n",
            "1      MSG  Entertainment Group , LLC (001w000001HtJ8...   \n",
            "2      Thrivent Financial for Lutherans (001w000001Ht...   \n",
            "3      AEA International Holdings Pte Ltd (001w000001...   \n",
            "4          State of Wisconsin - DOC (001w000001S8x7YAAR)   \n",
            "...                                                  ...   \n",
            "52175               TEIXEIRA DUARTE (0012000000GKiTbAAL)   \n",
            "52176              Wencor Group LLC (001w000001hkfISAAY)   \n",
            "52177  Metro Pacific Tollways Corporation (001w000001...   \n",
            "52178                                                NaN   \n",
            "52179                                                NaN   \n",
            "\n",
            "                               REQUESTER                     REQUESTER EMAIL  \\\n",
            "0      sherlock.zendesk_2@outsystems.com   sherlock.zendesk_2@outsystems.com   \n",
            "1                         Bryan Thompson              bryan.thompson@msg.com   \n",
            "2                       sherlock.zendesk     sherlock.zendesk@outsystems.com   \n",
            "3                     Pawan Kumar Sharma    pawan.kumar@internationalsos.com   \n",
            "4                    Jennifer Caringella  jennifer.caringella@outsystems.com   \n",
            "...                                  ...                                 ...   \n",
            "52175  digital.team.ser_5@outsystems.com   digital.team.ser_5@outsystems.com   \n",
            "52176                    Bryan SanAndres                 bryan@bryco-llc.com   \n",
            "52177                Czar Ryan Atriginio             csatriginio@mptc.com.ph   \n",
            "52178                                NaN                                 NaN   \n",
            "52179                                NaN                                 NaN   \n",
            "\n",
            "                 SUBMITTER                   SUBMITTER EMAIL  \\\n",
            "0         Sherlock.Zendesk   sherlock.zendesk@outsystems.com   \n",
            "1             André Duarte       andre.duarte@outsystems.com   \n",
            "2         Sherlock.Zendesk   sherlock.zendesk@outsystems.com   \n",
            "3       Pawan Kumar Sharma  pawan.kumar@internationalsos.com   \n",
            "4         Sherlock.Zendesk   sherlock.zendesk@outsystems.com   \n",
            "...                    ...                               ...   \n",
            "52175           Outsystems   digital.team.ser@outsystems.com   \n",
            "52176      Filipe Seixeira      joao.seixeira@outsystems.com   \n",
            "52177  Czar Ryan Atriginio           csatriginio@mptc.com.ph   \n",
            "52178                  NaN                               NaN   \n",
            "52179                  NaN                               NaN   \n",
            "\n",
            "                     CSM                                            SUBJECT  \\\n",
            "0                    NaN  New Manual Operation on Infrastructure MSG Spo...   \n",
            "1                    NaN  Add a new Front-End to your Production environ...   \n",
            "2                    NaN  New Manual Operation on Infrastructure Thriven...   \n",
            "3      Rohan Samarasinha  External Database (Permission Engine) Connecti...   \n",
            "4         Kevin Friedman  New Manual Operation on Infrastructure State o...   \n",
            "...                  ...                                                ...   \n",
            "52175                NaN  Incident 85584: ELB/ALB unhealthy frontends - ...   \n",
            "52176                NaN                Production: Database High CPU Usage   \n",
            "52177        Alpana Devi                        Change VPN Internet Gateway   \n",
            "52178                NaN                                                NaN   \n",
            "52179                NaN                                                NaN   \n",
            "\n",
            "      MONITORING QUALITY BAR MONITORING IMPROVEMENT NEEDED MONITORING REASON  \n",
            "0                        NaN                           NaN               NaN  \n",
            "1                        NaN                           NaN               NaN  \n",
            "2                        NaN                           NaN               NaN  \n",
            "3                        NaN                           NaN               NaN  \n",
            "4                        NaN                           NaN               NaN  \n",
            "...                      ...                           ...               ...  \n",
            "52175                  False                         False               NaN  \n",
            "52176                  False                         False               NaN  \n",
            "52177                  False                         False               NaN  \n",
            "52178                    NaN                           NaN               NaN  \n",
            "52179                    NaN                           NaN               NaN  \n",
            "\n",
            "[52180 rows x 71 columns]\n"
          ]
        },
        {
          "output_type": "stream",
          "name": "stderr",
          "text": [
            "/usr/local/lib/python3.7/dist-packages/IPython/core/interactiveshell.py:3326: DtypeWarning: Columns (7,8,9,10,16,22,24,27,41,49,51,58,70) have mixed types.Specify dtype option on import or set low_memory=False.\n",
            "  exec(code_obj, self.user_global_ns, self.user_ns)\n"
          ]
        }
      ]
    },
    {
      "cell_type": "code",
      "source": [
        "ptable_data = pd.read_csv('weeklyCRE_data_table.csv')"
      ],
      "metadata": {
        "id": "6mPUMD5uGOnr"
      },
      "execution_count": null,
      "outputs": []
    },
    {
      "cell_type": "code",
      "source": [
        "print(ptable_data)"
      ],
      "metadata": {
        "colab": {
          "base_uri": "https://localhost:8080/"
        },
        "id": "HiyX247AGZKb",
        "outputId": "2404c349-3dcb-4d66-9f20-de0231b8910d"
      },
      "execution_count": null,
      "outputs": [
        {
          "output_type": "stream",
          "name": "stdout",
          "text": [
            "                                    COUNTA of TICKET ID  WK_NUMBER  \\\n",
            "0                                              CUSTOMER        1.0   \n",
            "1                                                   NaN        NaN   \n",
            "2                          2Aviate (0016900002jAYNOAA4)        NaN   \n",
            "3               360 Asset Care Inc (0011r00002TmWA1AAN)        NaN   \n",
            "4              3D Floor Plans, LLC (0011r00002PrWkbAAF)        NaN   \n",
            "...                                                 ...        ...   \n",
            "1356  Zolve - Logística e Transporte, S.A. (001w0000...        NaN   \n",
            "1357    Zoominfo Technologies, LLC (0011r00002QjouSAAR)        NaN   \n",
            "1358  ZURICH – Companhia de Seguros Vida, SA (0011r0...        NaN   \n",
            "1359    Zwilling J. A. Henckels AG (0011r00001pITPlAAO)        NaN   \n",
            "1360                                        Grand Total       48.0   \n",
            "\n",
            "      Unnamed: 2  Unnamed: 3  Unnamed: 4  Unnamed: 5  Unnamed: 6  Unnamed: 7  \\\n",
            "0            2.0         3.0         4.0         5.0         6.0         7.0   \n",
            "1            NaN         NaN         1.0         NaN         NaN         NaN   \n",
            "2            NaN         NaN         2.0         NaN         NaN         NaN   \n",
            "3            NaN         NaN         NaN         1.0         1.0         1.0   \n",
            "4            NaN         NaN         NaN         NaN         NaN         NaN   \n",
            "...          ...         ...         ...         ...         ...         ...   \n",
            "1356         NaN         NaN         NaN         NaN         NaN         NaN   \n",
            "1357         NaN         NaN         NaN         NaN         NaN         NaN   \n",
            "1358         NaN         1.0         NaN         NaN         NaN         NaN   \n",
            "1359         NaN         NaN         NaN         NaN         NaN         NaN   \n",
            "1360       385.0       593.0       613.0       741.0       724.0       708.0   \n",
            "\n",
            "      Unnamed: 8  Unnamed: 9  ...  Unnamed: 31  Unnamed: 32  Unnamed: 33  \\\n",
            "0            8.0         9.0  ...         31.0         32.0         33.0   \n",
            "1            NaN         NaN  ...          NaN          NaN          NaN   \n",
            "2            NaN         NaN  ...          NaN          NaN          NaN   \n",
            "3            NaN         NaN  ...          NaN          NaN          NaN   \n",
            "4            NaN         NaN  ...          NaN          NaN          NaN   \n",
            "...          ...         ...  ...          ...          ...          ...   \n",
            "1356         NaN         NaN  ...          NaN          2.0          1.0   \n",
            "1357         NaN         NaN  ...          NaN          NaN          NaN   \n",
            "1358         NaN         NaN  ...          NaN          1.0          NaN   \n",
            "1359         NaN         8.0  ...          NaN          NaN          NaN   \n",
            "1360       994.0      1068.0  ...        547.0        547.0        455.0   \n",
            "\n",
            "      Unnamed: 34  Unnamed: 35  Unnamed: 36  Unnamed: 37  Unnamed: 38  \\\n",
            "0            34.0         35.0         36.0         37.0         38.0   \n",
            "1             1.0          NaN          NaN          NaN          NaN   \n",
            "2             NaN          NaN          NaN          NaN          NaN   \n",
            "3             NaN          NaN          NaN          NaN          NaN   \n",
            "4             NaN          NaN          NaN          NaN          NaN   \n",
            "...           ...          ...          ...          ...          ...   \n",
            "1356          NaN          NaN          3.0          1.0          NaN   \n",
            "1357          NaN          NaN          NaN          NaN          NaN   \n",
            "1358          NaN          1.0          NaN          NaN          NaN   \n",
            "1359          NaN          NaN          NaN          NaN          NaN   \n",
            "1360        591.0        467.0        641.0        452.0         99.0   \n",
            "\n",
            "      Unnamed: 39  Unnamed: 40  \n",
            "0            40.0  Grand Total  \n",
            "1             NaN            9  \n",
            "2             NaN           15  \n",
            "3             NaN           18  \n",
            "4             NaN           17  \n",
            "...           ...          ...  \n",
            "1356          NaN           29  \n",
            "1357          NaN           10  \n",
            "1358          NaN           37  \n",
            "1359          NaN           24  \n",
            "1360          2.0        45154  \n",
            "\n",
            "[1361 rows x 41 columns]\n"
          ]
        }
      ]
    }
  ]
}